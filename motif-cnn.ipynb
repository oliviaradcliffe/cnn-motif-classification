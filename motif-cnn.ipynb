{
 "cells": [
  {
   "cell_type": "markdown",
   "metadata": {},
   "source": [
    "# Olivia Radcliffe\n",
    "You are required to design a simple 1-D CNN implementation for a DNA sequence classification task using Python and TensorFlow/Keras. For this problem, the model is trained to predict whether a given sequence contains the motif patern 'ATCGATCG'You can modify the motif_patern variable and the length of the random_sequence to test the model with diﬀerent motifs and sequence lengths. The accuracy on the test set is printed after training the model. Adjust the hyperparameters, such as the number of filters, kernel size, and training epochs, based on your specific requirements and dataset characteristics."
   ]
  },
  {
   "cell_type": "markdown",
   "metadata": {},
   "source": [
    "# Imports"
   ]
  },
  {
   "cell_type": "code",
   "execution_count": 4,
   "metadata": {},
   "outputs": [],
   "source": [
    "import numpy as np\n",
    "from tensorflow.keras.models import Sequential\n",
    "from tensorflow.keras.layers import Conv1D, MaxPooling1D, GlobalAveragePooling1D, Flatten, Dense, Dropout\n",
    "from sklearn.model_selection import train_test_split\n",
    "\n",
    "from sklearn.preprocessing import LabelEncoder\n",
    "from tensorflow.keras.utils import to_categorical\n",
    "from tensorflow.keras.callbacks import EarlyStopping \n"
   ]
  },
  {
   "cell_type": "markdown",
   "metadata": {},
   "source": [
    "# Function to generate a random DNA sequence"
   ]
  },
  {
   "cell_type": "code",
   "execution_count": 5,
   "metadata": {},
   "outputs": [],
   "source": [
    "# Generate a random DNA sequence\n",
    "np.random.seed(42)\n",
    "\n",
    "def generate_random_sequence(sequence_length):\n",
    "    nucleotides = ['A', 'C', 'G', 'T']\n",
    "    return ''.join(np.random.choice(nucleotides, sequence_length))"
   ]
  },
  {
   "cell_type": "markdown",
   "metadata": {},
   "source": [
    "# Create Dataset"
   ]
  },
  {
   "cell_type": "code",
   "execution_count": 6,
   "metadata": {},
   "outputs": [],
   "source": [
    "def createDataset(motif_pattern, sequence_length, num_samples): \n",
    "\n",
    "    positive_sequences = []\n",
    "    negative_sequences = []\n",
    "\n",
    "    # -- Create negative samples without the motif --\n",
    "    while len(negative_sequences) < num_samples:\n",
    "        # Generate a random sequence\n",
    "        random_sequence = generate_random_sequence(sequence_length)\n",
    "\n",
    "        # Check if the sequence contains the motif\n",
    "        if motif_pattern not in random_sequence:\n",
    "            negative_sequences.append(random_sequence)\n",
    "        else:\n",
    "            positive_sequences.append(random_sequence)\n",
    "\n",
    "    # -- Create positive samples with the motif --\n",
    "    while len(positive_sequences) < num_samples:\n",
    "        # Define a random starting point\n",
    "        start = np.random.randint(0, sequence_length - len(motif_pattern))\n",
    "\n",
    "        # Generate a random sequence\n",
    "        positive_seq = generate_random_sequence(sequence_length)\n",
    "\n",
    "        # Check if the sequence contains the motif\n",
    "        if motif_pattern not in random_sequence:\n",
    "            # Insert the motif into the random sequence\n",
    "            positive_seq = positive_seq[0:start] + motif_pattern + positive_seq[start + len(motif_pattern):]\n",
    "\n",
    "        # Append the sequence\n",
    "        positive_sequences.append(positive_seq)\n",
    "\n",
    "\n",
    "    # -- Combine positive and negative samples --\n",
    "    sequences = positive_sequences + negative_sequences\n",
    "    # Create labels\n",
    "    labels = [\"positive\"] * len(positive_sequences) + [\"negative\"] * len(negative_sequences)\n",
    "\n",
    "    # -- Convert DNA sequences to one-hot encoding --\n",
    "    def dna_to_one_hot(sequence):\n",
    "        mapping = {'A': [1, 0, 0, 0], 'C': [0, 1, 0, 0], 'G': [0, 0, 1, 0], 'T': [0, 0, 0, 1]}\n",
    "        return np.array([mapping[nuc] for nuc in sequence])\n",
    "\n",
    "    one_hot_sequences = np.array([dna_to_one_hot(seq) for seq in sequences])\n",
    "\n",
    "    # Encode labels\n",
    "    label_encoder = LabelEncoder()\n",
    "    encoded_labels = label_encoder.fit_transform(labels)\n",
    "    encoded_labels = to_categorical(encoded_labels)\n",
    "\n",
    "    # -- Split the data into training and testing sets --\n",
    "    one_hot_X_train, one_hot_X_test, y_train, y_test = train_test_split(one_hot_sequences, encoded_labels, test_size=0.15, random_state=42)\n",
    "\n",
    "\n",
    "    return one_hot_X_train, one_hot_X_test, y_train, y_test"
   ]
  },
  {
   "cell_type": "markdown",
   "metadata": {},
   "source": [
    "# Build, compile and train the CNN model"
   ]
  },
  {
   "cell_type": "code",
   "execution_count": 7,
   "metadata": {},
   "outputs": [],
   "source": [
    "def build_and_train(one_hot_X_train, y_train, sequence_length):\n",
    "\n",
    "    np.random.seed(4)\n",
    "\n",
    "    # Build the model\n",
    "    model = Sequential()\n",
    "    model.add(Conv1D(64, 5, activation='relu', input_shape=(sequence_length, 4)))\n",
    "\n",
    "    # Added another conv layer since with one I achieved 0.5 accuracy\n",
    "    model.add(Conv1D(64, 5, activation='relu'))\n",
    "    \n",
    "    # Experimented with dropout - improved results when 2 conv layers\n",
    "    model.add(Dropout(0.3))\n",
    "\n",
    "    # GlobalAveragePooling1D worked much better than MaxPooling1D\n",
    "    #model.add(MaxPooling1D(2))\n",
    "    model.add(GlobalAveragePooling1D())\n",
    "\n",
    "    model.add(Flatten())\n",
    "    \n",
    "    # Added a dense layer to improve accuracy by interpreting the features before classification\n",
    "    model.add(Dense(64, activation='relu'))\n",
    "    model.add(Dense(2, activation='softmax')) # 2 classes\n",
    "\n",
    "    # Compile the model\n",
    "    model.compile(loss='categorical_crossentropy', optimizer='adam', metrics=['accuracy'])\n",
    "\n",
    "    # Train the model\n",
    "    early_stopping = EarlyStopping(monitor='val_loss', patience=4) # Reduced patience due to long training time\n",
    "    model.fit(one_hot_X_train, y_train, batch_size=32, epochs=50, validation_split=0.3, callbacks=[early_stopping], verbose=0)\n",
    "\n",
    "    return model\n",
    "\n"
   ]
  },
  {
   "cell_type": "markdown",
   "metadata": {},
   "source": [
    "# Evaluate the model"
   ]
  },
  {
   "cell_type": "code",
   "execution_count": 8,
   "metadata": {},
   "outputs": [],
   "source": [
    "\n",
    "def testModel(motif_pattern, sequence_length, num_samples):\n",
    "\n",
    "    print(\"Parameters: \"\n",
    "        + \"\\n\\tMotif Pattern: \" + motif_pattern\n",
    "        + \"\\n\\tSequence Length: \" + str(sequence_length)\n",
    "        + \"\\n\\tNumber of Samples: \" + str(num_samples))\n",
    "\n",
    "    # Create the dataset\n",
    "    one_hot_X_train, one_hot_X_test, y_train, y_test = createDataset(motif_pattern, sequence_length, num_samples)\n",
    "    # Build and train the model\n",
    "    model = build_and_train(one_hot_X_train, y_train, sequence_length)\n",
    "    # Evaluate the model\n",
    "    loss, accuracy = model.evaluate(one_hot_X_test, y_test)\n",
    "    print(f'Test Accuracy: {accuracy * 100:.2f}%')"
   ]
  },
  {
   "cell_type": "markdown",
   "metadata": {},
   "source": [
    "# Testing Parameters"
   ]
  },
  {
   "cell_type": "markdown",
   "metadata": {},
   "source": [
    "Took around 4 mins to run on my laptop\n",
    "\n",
    "Results differ to to the ranodmization of the dataset."
   ]
  },
  {
   "cell_type": "code",
   "execution_count": 10,
   "metadata": {},
   "outputs": [
    {
     "name": "stdout",
     "output_type": "stream",
     "text": [
      "Parameters: \n",
      "\tMotif Pattern: ATCGATCG\n",
      "\tSequence Length: 1000\n",
      "\tNumber of Samples: 2000\n"
     ]
    },
    {
     "name": "stderr",
     "output_type": "stream",
     "text": [
      "2023-12-04 07:43:15.222583: I tensorflow/core/grappler/optimizers/custom_graph_optimizer_registry.cc:114] Plugin optimizer for device_type GPU is enabled.\n",
      "2023-12-04 07:43:16.644743: I tensorflow/core/grappler/optimizers/custom_graph_optimizer_registry.cc:114] Plugin optimizer for device_type GPU is enabled.\n"
     ]
    },
    {
     "name": "stdout",
     "output_type": "stream",
     "text": [
      "19/19 [==============================] - 0s 11ms/step - loss: 0.0022 - accuracy: 1.0000\n",
      "Test Accuracy: 100.00%\n",
      "Parameters: \n",
      "\tMotif Pattern: ATCGATCG\n",
      "\tSequence Length: 100\n",
      "\tNumber of Samples: 500\n"
     ]
    },
    {
     "name": "stderr",
     "output_type": "stream",
     "text": [
      "2023-12-04 07:44:26.225948: I tensorflow/core/grappler/optimizers/custom_graph_optimizer_registry.cc:114] Plugin optimizer for device_type GPU is enabled.\n",
      "2023-12-04 07:44:26.776665: I tensorflow/core/grappler/optimizers/custom_graph_optimizer_registry.cc:114] Plugin optimizer for device_type GPU is enabled.\n"
     ]
    },
    {
     "name": "stdout",
     "output_type": "stream",
     "text": [
      "5/5 [==============================] - 0s 15ms/step - loss: 0.0072 - accuracy: 1.0000\n",
      "Test Accuracy: 100.00%\n",
      "Parameters: \n",
      "\tMotif Pattern: AATCG\n",
      "\tSequence Length: 100\n",
      "\tNumber of Samples: 500\n"
     ]
    },
    {
     "name": "stderr",
     "output_type": "stream",
     "text": [
      "2023-12-04 07:44:42.421411: I tensorflow/core/grappler/optimizers/custom_graph_optimizer_registry.cc:114] Plugin optimizer for device_type GPU is enabled.\n",
      "2023-12-04 07:44:42.972852: I tensorflow/core/grappler/optimizers/custom_graph_optimizer_registry.cc:114] Plugin optimizer for device_type GPU is enabled.\n"
     ]
    },
    {
     "name": "stdout",
     "output_type": "stream",
     "text": [
      "5/5 [==============================] - 0s 15ms/step - loss: 0.0403 - accuracy: 0.9933\n",
      "Test Accuracy: 99.33%\n",
      "Parameters: \n",
      "\tMotif Pattern: AATCG\n",
      "\tSequence Length: 50\n",
      "\tNumber of Samples: 100\n"
     ]
    },
    {
     "name": "stderr",
     "output_type": "stream",
     "text": [
      "2023-12-04 07:44:58.694942: I tensorflow/core/grappler/optimizers/custom_graph_optimizer_registry.cc:114] Plugin optimizer for device_type GPU is enabled.\n",
      "2023-12-04 07:44:59.095676: I tensorflow/core/grappler/optimizers/custom_graph_optimizer_registry.cc:114] Plugin optimizer for device_type GPU is enabled.\n"
     ]
    },
    {
     "name": "stdout",
     "output_type": "stream",
     "text": [
      "1/1 [==============================] - 0s 54ms/step - loss: 0.3637 - accuracy: 0.8667\n",
      "Test Accuracy: 86.67%\n",
      "Parameters: \n",
      "\tMotif Pattern: AACG\n",
      "\tSequence Length: 100\n",
      "\tNumber of Samples: 500\n"
     ]
    },
    {
     "name": "stderr",
     "output_type": "stream",
     "text": [
      "2023-12-04 07:45:03.820452: I tensorflow/core/grappler/optimizers/custom_graph_optimizer_registry.cc:114] Plugin optimizer for device_type GPU is enabled.\n",
      "2023-12-04 07:45:04.398981: I tensorflow/core/grappler/optimizers/custom_graph_optimizer_registry.cc:114] Plugin optimizer for device_type GPU is enabled.\n"
     ]
    },
    {
     "name": "stdout",
     "output_type": "stream",
     "text": [
      "5/5 [==============================] - 0s 15ms/step - loss: 0.0281 - accuracy: 0.9933\n",
      "Test Accuracy: 99.33%\n"
     ]
    }
   ],
   "source": [
    "testModel('ATCGATCG', 1000, 2000)\n",
    "\n",
    "testModel('ATCGATCG', 100, 500)\n",
    "\n",
    "testModel('AATCG', 100, 500)\n",
    "\n",
    "testModel('AATCG', 50, 100)\n",
    "\n",
    "testModel('AACG', 100, 500)"
   ]
  }
 ],
 "metadata": {
  "kernelspec": {
   "display_name": "bioML",
   "language": "python",
   "name": "python3"
  },
  "language_info": {
   "codemirror_mode": {
    "name": "ipython",
    "version": 3
   },
   "file_extension": ".py",
   "mimetype": "text/x-python",
   "name": "python",
   "nbconvert_exporter": "python",
   "pygments_lexer": "ipython3",
   "version": "3.11.5"
  }
 },
 "nbformat": 4,
 "nbformat_minor": 2
}
